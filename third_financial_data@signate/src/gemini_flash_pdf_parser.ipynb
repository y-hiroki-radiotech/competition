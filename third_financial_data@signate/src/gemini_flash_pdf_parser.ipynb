{
 "cells": [
  {
   "cell_type": "code",
   "execution_count": 3,
   "metadata": {},
   "outputs": [],
   "source": [
    "from google import genai\n",
    "from dotenv import load_dotenv\n",
    "\n",
    "load_dotenv()\n",
    "\n",
    "client = genai.Client()\n",
    "model_id = \"gemini-2.0-flash\""
   ]
  },
  {
   "cell_type": "markdown",
   "metadata": {},
   "source": [
    "#### select pdf files"
   ]
  },
  {
   "cell_type": "code",
   "execution_count": 8,
   "metadata": {},
   "outputs": [],
   "source": [
    "file = \"/Users/user/Desktop/GenerativeAI_apps/third_finance_competition/documents/Nissan Motor Corporation-サステナビリティデータブック-2024.pdf\"\n",
    "filename = file.split(\".\")[-2].split(\"/\")[-1]\n",
    "pdf = client.files.upload(file=file, config={\"display_name\": filename})"
   ]
  },
  {
   "cell_type": "code",
   "execution_count": 9,
   "metadata": {},
   "outputs": [
    {
     "name": "stdout",
     "output_type": "stream",
     "text": [
      "File: Nissan Motor Corporation-サステナビリティデータブック-2024 equalsto 197724 tokens\n"
     ]
    }
   ],
   "source": [
    "file_size = client.models.count_tokens(model=model_id, contents=pdf)\n",
    "print(f\"File: {pdf.display_name} equalsto {file_size.total_tokens} tokens\")"
   ]
  },
  {
   "cell_type": "markdown",
   "metadata": {},
   "source": [
    "#### 4. コンペ用に動的にpydanticクラスを作成"
   ]
  },
  {
   "cell_type": "code",
   "execution_count": 100,
   "metadata": {},
   "outputs": [],
   "source": [
    "from typing import Dict, Any, Optional\n",
    "from pydantic import BaseModel, Field, create_model\n",
    "import openai\n",
    "import json\n",
    "\n",
    "def create_pydantic_schema_prompt(questions: str) -> str:\n",
    "    \"\"\"\"GPT-4に送信するプロンプトを生成する\"\"\"\n",
    "    return f\"\"\"\n",
    "以下の質問から、的確なポイントを押さえたPydanticのスキーマを生成してください。\n",
    "必要に応じて、関連する追加フィールドも提案してください。\n",
    "各フィールドには適切なデータ型とdescriptionをつけてください。\n",
    "\n",
    "以下は出力の例です:\n",
    "\n",
    "入力例:\n",
    "日産自動車の2023年度の従業員の平均年収は約何万円でしょうか。\n",
    "日産自動車のコーポレートパーパスは何ですか。\n",
    "日産自動車の2023年度において、グローバル生産台数は何台か。\n",
    "\n",
    "出力例：\n",
    "{{\n",
    "    \"fields\": [\n",
    "        {{\n",
    "            \"name\": \"従業員平均年収\",\n",
    "            \"type\": \"int\",\n",
    "            \"description\": \"2023年度の日産自動車従業員の平均年収（単位：万円）\",\n",
    "        }},\n",
    "        {{\n",
    "            \"name\": \"コーポレートパーパス\",\n",
    "            \"type\": \"str\",\n",
    "            \"description\": \"日産自動車の企業としての存在意義と目的を示す声明\",\n",
    "        }},\n",
    "        {{\n",
    "            \"name\": \"グローバル生産台数\",\n",
    "            \"type\": \"int\",\n",
    "            \"description\": \"2023年度における世界全体での自動車生産台数\",\n",
    "        }},\n",
    "    ]\n",
    "}}\n",
    "あなたの質問:\n",
    "{questions}\n",
    "\n",
    "出力形式:\n",
    "{{\n",
    "    \"fields\": [\n",
    "        {{\n",
    "            \"name\": \"フィールド名\",\n",
    "            \"type\": \"データ型\",\n",
    "            \"description\": \"説明\",\n",
    "            \"optional\": true/false\n",
    "        }},\n",
    "        ...\n",
    "    ]\n",
    "}}\n",
    "\n",
    "注意事項:\n",
    "- 数値データは適切な型(int, float)を選択してください\n",
    "- 必須/オプションを適切に設定してください\n",
    "- descriptionは具体的で明確な説明を付けてください\n",
    "- 関連する追加フィールドも積極的に提案してください\n",
    "- 単位が必要な場合は、descriptionに明記してください\n",
    "\"\"\"\n",
    "\n",
    "def generate_pydantic_schema(questions: str) -> Dict[str, Any]:\n",
    "    \"\"\"GPT-4を使用してPydanticスキーマを生成する\"\"\"\n",
    "    client = openai.OpenAI()\n",
    "\n",
    "    response = client.chat.completions.create(\n",
    "        model=\"gpt-4o-mini\",\n",
    "        messages=[\n",
    "            {\"role\": \"system\", \"content\": \"あなたはPydanticスキーマの専門家です。\"},\n",
    "            {\"role\": \"user\", \"content\": create_pydantic_schema_prompt(questions)},\n",
    "        ],\n",
    "        temperature=0.3\n",
    "    )\n",
    "    return response.choices[0].message.content\n",
    "\n",
    "def parse_schema_response(schema_str: str) -> Dict[str, Any]:\n",
    "    \"\"\"\n",
    "    GPT-4からの応答をパースしてPythonの辞書に変換します。\n",
    "\n",
    "    Args:\n",
    "        schema_str (str): GPT-4から返された JSON 形式の文字列\n",
    "\n",
    "    Returns:\n",
    "        Dict[str, Any]: パースされたスキーマ辞書\n",
    "    \"\"\"\n",
    "    try:\n",
    "        # コードブロックのマーカー（```json や ```）を削除\n",
    "        cleaned_str = schema_str.replace('```json', '').replace('```', '').strip()\n",
    "\n",
    "        # JSON文字列をパース\n",
    "        schema_dict = json.loads(cleaned_str)\n",
    "\n",
    "        return schema_dict\n",
    "    except json.JSONDecodeError as e:\n",
    "        raise ValueError(f\"Invalid JSON format: {e}\")\n",
    "    except Exception as e:\n",
    "        raise ValueError(f\"Error parsing schema: {e}\")\n",
    "\n",
    "def create_dynamic_pydantic_class(schema_str: str, class_name: str = \"Questionnaire\") -> type[BaseModel]:\n",
    "    schema_dict = parse_schema_response(schema_str)\n",
    "\n",
    "    field_definitions = {}\n",
    "\n",
    "    for field in schema_dict[\"fields\"]:\n",
    "        field_type = eval(field[\"type\"])\n",
    "\n",
    "        if field[\"optional\"]:\n",
    "            field_type = Optional[field_type]\n",
    "\n",
    "        # OBJECT型でpropertiesが空の場合の対処\n",
    "        if field[\"type\"] == \"Dict[str, int]\" or field[\"type\"] == \"Dict[str, str]\" or field[\"type\"] == \"Dict[str, Any]\": #Dict型の場合\n",
    "            if \"properties\" not in field or not field[\"properties\"]:\n",
    "                # propertiesが空の場合は、Any型を指定する\n",
    "                field_type = Dict[str, Any] #変更\n",
    "                print(\"field_typeを変更\")\n",
    "\n",
    "        field_definitions[field[\"name\"]] = (\n",
    "            field_type,\n",
    "            Field(... if not field[\"optional\"] else None,\n",
    "                  description=field[\"description\"]\n",
    "                  )\n",
    "            )\n",
    "    return create_model(class_name, **field_definitions)"
   ]
  },
  {
   "cell_type": "code",
   "execution_count": 101,
   "metadata": {},
   "outputs": [],
   "source": [
    "questions = \"日産自動車の2023年度の従業員の平均年収は約何万円でしょうか。\"\n",
    "\n",
    "schema = generate_pydantic_schema(questions)\n",
    "\n",
    "Questionnaire = create_dynamic_pydantic_class(schema)"
   ]
  },
  {
   "cell_type": "code",
   "execution_count": 105,
   "metadata": {},
   "outputs": [
    {
     "data": {
      "text/plain": [
       "{'従業員平均年収': FieldInfo(annotation=int, required=True, description='2023年度の日産自動車従業員の平均年収（単位：万円）'),\n",
       " 'コーポレートパーパス': FieldInfo(annotation=str, required=True, description='日産自動車の企業としての存在意義と目的を示す声明'),\n",
       " 'グローバル生産台数': FieldInfo(annotation=int, required=True, description='2023年度における世界全体での自動車生産台数'),\n",
       " '従業員数': FieldInfo(annotation=Union[int, NoneType], required=False, default=None, description='2023年度の日産自動車の全従業員数'),\n",
       " '売上高': FieldInfo(annotation=Union[float, NoneType], required=False, default=None, description='2023年度の日産自動車の総売上高（単位：億円）'),\n",
       " '営業利益': FieldInfo(annotation=Union[float, NoneType], required=False, default=None, description='2023年度の日産自動車の営業利益（単位：億円）')}"
      ]
     },
     "execution_count": 105,
     "metadata": {},
     "output_type": "execute_result"
    }
   ],
   "source": [
    "Questionnaire.model_fields"
   ]
  },
  {
   "cell_type": "code",
   "execution_count": null,
   "metadata": {},
   "outputs": [],
   "source": [
    "from typing import List, Optional\n",
    "from pydantic import BaseModel, Field\n",
    "\n",
    "class CompanyOverview(BaseModel):\n",
    "    会社名: str = Field(..., description=\"会社名\")\n",
    "    本社所在地: str = Field(..., description=\"本社所在地\")\n",
    "    設立年月: str = Field(..., description=\"設立年月\")\n",
    "    代表者名: str = Field(..., description=\"代表者名\")\n",
    "    主要事業: str = Field(..., description=\"主要事業\")\n",
    "    上場市場: Optional[str] = Field(None, description=\"上場市場\")\n",
    "    証券コード: Optional[str] = Field(None, description=\"証券コード\")\n",
    "    URL: Optional[str] = Field(None, description=\"URL\")\n",
    "\n",
    "class FinancialHighlights(BaseModel):\n",
    "    売上高: int = Field(..., description=\"売上高\")\n",
    "    営業利益: int = Field(..., description=\"営業利益\")\n",
    "    経常利益: int = Field(..., description=\"経常利益\")\n",
    "    当期純利益: int = Field(..., description=\"当期純利益\")\n",
    "    総資産: int = Field(..., description=\"総資産\")\n",
    "    自己資本: int = Field(..., description=\"自己資本\")\n",
    "    ROE: float = Field(..., description=\"ROE\")\n",
    "    EPS: float = Field(..., description=\"EPS\")\n",
    "\n",
    "class ESG(BaseModel):\n",
    "    環境: Optional[str] = Field(None, description=\"環境に関する取り組み\")\n",
    "    社会: Optional[str] = Field(None, description=\"社会に関する取り組み\")\n",
    "    ガバナンス: Optional[str] = Field(None, description=\"ガバナンスに関する取り組み\")\n",
    "\n",
    "class ShareholderInformation(BaseModel):\n",
    "    株主数: int = Field(..., description=\"株主数\")\n",
    "    発行済株式数: int = Field(..., description=\"発行済株式数\")\n",
    "    配当金: float = Field(..., description=\"配当金\")\n",
    "    株価情報: Optional[str] = Field(None, description=\"株価情報\")\n",
    "\n",
    "class ManagementStrategy(BaseModel):\n",
    "    ビジョン: Optional[str] = Field(None, description=\"ビジョン\")\n",
    "    中期経営計画: Optional[str] = Field(None, description=\"中期経営計画\")\n",
    "    事業戦略: Optional[str] = Field(None, description=\"事業戦略\")\n",
    "\n",
    "class OrganizationInformation(BaseModel):\n",
    "    組織図: Optional[str] = Field(None, description=\"組織図\")\n",
    "    従業員数: int = Field(..., description=\"従業員数\")\n",
    "\n",
    "\n",
    "class IntegratedReport(BaseModel):\n",
    "    company_overview: CompanyOverview\n",
    "    financial_highlights: FinancialHighlights\n",
    "    esg: ESG\n",
    "    shareholder_information: ShareholderInformation\n",
    "    management_strategy: ManagementStrategy\n",
    "    organization_information: OrganizationInformation\n",
    "    other_information: Optional[str] = Field(None, description=\"その他の情報\")\n",
    "    questionnaire: Questionnaire"
   ]
  },
  {
   "cell_type": "code",
   "execution_count": 103,
   "metadata": {},
   "outputs": [
    {
     "name": "stdout",
     "output_type": "stream",
     "text": [
      "{\n",
      "  \"company_overview\": {\n",
      "    \"主要事業\": \"自動車製造\",\n",
      "    \"代表者名\": \"内田 誠\",\n",
      "    \"会社名\": \"日産自動車株式会社\",\n",
      "    \"本社所在地\": \"神奈川県横浜市\",\n",
      "    \"設立年月\": \"1933年12月\",\n",
      "    \"URL\": \"https://www.nissan-global.com/JP/\",\n",
      "    \"上場市場\": \"東京証券取引所\",\n",
      "    \"証券コード\": \"7201\"\n",
      "  },\n",
      "  \"esg\": {\n",
      "    \"ガバナンス\": \"企業統治体制の強化、コンプライアンスの徹底\",\n",
      "    \"環境\": \"電動化技術の開発、CO2排出量削減\",\n",
      "    \"社会\": \"多様な人材の活躍支援、地域社会への貢献\"\n",
      "  },\n",
      "  \"financial_highlights\": {\n",
      "    \"EPS\": 45.67,\n",
      "    \"ROE\": 8.2,\n",
      "    \"営業利益\": 5000,\n",
      "    \"売上高\": 100000,\n",
      "    \"当期純利益\": 3000,\n",
      "    \"経常利益\": 5500,\n",
      "    \"総資産\": 150000,\n",
      "    \"自己資本\": 60000\n",
      "  },\n",
      "  \"management_strategy\": {\n",
      "    \"ビジョン\": \"革新的なモビリティで、持続可能な社会に貢献する\",\n",
      "    \"中期経営計画\": \"Nissan Ambition 2030\",\n",
      "    \"事業戦略\": \"電動化、知能化、コネクテッド化を推進\"\n",
      "  },\n",
      "  \"organization_information\": {\n",
      "    \"従業員数\": 130000,\n",
      "    \"組織図\": null\n",
      "  },\n",
      "  \"questionnaire\": {\n",
      "    \"グローバル生産台数\": 3400000,\n",
      "    \"コーポレートパーパス\": \"人々の生活を豊かにする\",\n",
      "    \"従業員平均年収\": 850,\n",
      "    \"営業利益\": 5000.00,\n",
      "    \"売上高\": 100000.00,\n",
      "    \"従業員数\": 130000\n",
      "  },\n",
      "  \"shareholder_information\": {\n",
      "    \"株主数\": 350000,\n",
      "    \"発行済株式数\": 4000000000,\n",
      "    \"配当金\": 25.00,\n",
      "    \"株価情報\": \"Yahoo!ファイナンス: 7201\"\n",
      "  },\n",
      "  \"other_information\": \"最新情報は日産自動車ウェブサイトを参照ください。\"\n",
      "}\n"
     ]
    }
   ],
   "source": [
    "prompt = \"以下のPDFファイルをGemini Flash APIで読み取り、Pydanticモデルに基づいて構造化されたJSON形式で出力してください。\"\n",
    "response = client.models.generate_content(model=model_id, contents=prompt, config={\"response_mime_type\": \"application/json\", \"response_schema\": IntegratedReport})\n",
    "print(response.text)"
   ]
  },
  {
   "cell_type": "code",
   "execution_count": 110,
   "metadata": {},
   "outputs": [],
   "source": [
    "import json\n",
    "\n",
    "def create_context(model_fields, data_str):\n",
    "    \"\"\"\n",
    "    Pydanticモデルのフィールド情報とデータを組み合わせてコンテキストを生成する\n",
    "\n",
    "    Args:\n",
    "        model_fields (dict): Pydanticモデルのフィールド情報\n",
    "        data_str (str): JSON形式の文字列データ\n",
    "\n",
    "    Returns:\n",
    "        str: 生成されたコンテキスト\n",
    "    \"\"\"\n",
    "    # JSON文字列をパース\n",
    "    try:\n",
    "        data = json.loads(data_str)\n",
    "    except json.JSONDecodeError as e:\n",
    "        raise ValueError(f\"Invalid JSON format: {e}\")\n",
    "\n",
    "    # クエスチョネアデータの抽出\n",
    "    questionnaire_data = data.get('questionnaire', {})\n",
    "\n",
    "    # コンテキストの構築\n",
    "    context_parts = []\n",
    "\n",
    "    # 各フィールドについて処理\n",
    "    for field_name, field_info in model_fields.items():\n",
    "        if field_name in questionnaire_data:\n",
    "            value = questionnaire_data[field_name]\n",
    "            description = field_info.description\n",
    "            context_parts.append(f\"{description}: {value}\")\n",
    "\n",
    "    # コンテキストの結合\n",
    "    context = \"コンテキスト：\\n\" + \"\\n\".join(context_parts)\n",
    "\n",
    "    return context"
   ]
  },
  {
   "cell_type": "code",
   "execution_count": 111,
   "metadata": {},
   "outputs": [],
   "source": [
    "context = create_context(Questionnaire.model_fields, response.text)"
   ]
  },
  {
   "cell_type": "code",
   "execution_count": 112,
   "metadata": {},
   "outputs": [
    {
     "data": {
      "text/plain": [
       "'コンテキスト：\\n2023年度の日産自動車従業員の平均年収（単位：万円）: 850\\n日産自動車の企業としての存在意義と目的を示す声明: 人々の生活を豊かにする\\n2023年度における世界全体での自動車生産台数: 3400000\\n2023年度の日産自動車の全従業員数: 130000\\n2023年度の日産自動車の総売上高（単位：億円）: 100000.0\\n2023年度の日産自動車の営業利益（単位：億円）: 5000.0'"
      ]
     },
     "execution_count": 112,
     "metadata": {},
     "output_type": "execute_result"
    }
   ],
   "source": [
    "context"
   ]
  },
  {
   "cell_type": "markdown",
   "metadata": {},
   "source": [
    "### コードのテスト"
   ]
  },
  {
   "cell_type": "code",
   "execution_count": 113,
   "metadata": {},
   "outputs": [],
   "source": [
    "from rag_code.create_pydantic_schema import CreatePydanticSchema\n",
    "from rag_code.create_integrated_pydantic_model import create_integrated_report_model\n",
    "from rag_code.gemini_flash_pdf_output import response_gemini\n",
    "from rag_code.gemini_flash_pdf_output import create_context\n",
    "\n",
    "\n",
    "%load_ext autoreload\n",
    "%autoreload 2"
   ]
  },
  {
   "cell_type": "code",
   "execution_count": 114,
   "metadata": {},
   "outputs": [
    {
     "name": "stdout",
     "output_type": "stream",
     "text": [
      "{\n",
      "    \"fields\": [\n",
      "        {\n",
      "            \"name\": \"従業員平均年収\",\n",
      "            \"type\": \"int\",\n",
      "            \"description\": \"2023年度の日産自動車従業員の平均年収（単位：万円）\",\n",
      "            \"optional\": false\n",
      "        },\n",
      "        {\n",
      "            \"name\": \"コーポレートパーパス\",\n",
      "            \"type\": \"str\",\n",
      "            \"description\": \"日産自動車の企業としての存在意義と目的を示す声明\",\n",
      "            \"optional\": false\n",
      "        },\n",
      "        {\n",
      "            \"name\": \"グローバル生産台数\",\n",
      "            \"type\": \"int\",\n",
      "            \"description\": \"2023年度における世界全体での自動車生産台数\",\n",
      "            \"optional\": false\n",
      "        },\n",
      "        {\n",
      "            \"name\": \"設立年\",\n",
      "            \"type\": \"int\",\n",
      "            \"description\": \"日産自動車が設立された年\",\n",
      "            \"optional\": true\n",
      "        },\n",
      "        {\n",
      "            \"name\": \"本社所在地\",\n",
      "            \"type\": \"str\",\n",
      "            \"description\": \"日産自動車の本社が所在する場所\",\n",
      "            \"optional\": true\n",
      "        }\n",
      "    ]\n",
      "}\n"
     ]
    }
   ],
   "source": [
    "filepath = \"/Users/user/Desktop/GenerativeAI_apps/third_finance_competition/documents/Nissan Motor Corporation-サステナビリティデータブック-2024.pdf\"\n",
    "search = CreatePydanticSchema(filepath)\n",
    "question = \"日産自動車の2023年度の従業員の平均年収は約何万円でしょうか。\"\n",
    "schema_str = search.generate_pydantic_schema(question)\n",
    "print(schema_str)\n",
    "Questionnair = search.create_dynamic_pydantic_class(schema_str)\n",
    "IntegratedReport = create_integrated_report_model(Questionnair)\n",
    "response = response_gemini(question, IntegratedReport)\n",
    "context = create_context(Questionnair.model_fields, response)"
   ]
  },
  {
   "cell_type": "code",
   "execution_count": 115,
   "metadata": {},
   "outputs": [
    {
     "data": {
      "text/plain": [
       "'コンテキスト：\\n2023年度の日産自動車従業員の平均年収（単位：万円）: 800\\n日産自動車の企業としての存在意義と目的を示す声明: 人々の生活を豊かにする\\n2023年度における世界全体での自動車生産台数: 3500000\\n日産自動車が設立された年: 1933\\n日産自動車の本社が所在する場所: 神奈川県横浜市'"
      ]
     },
     "execution_count": 115,
     "metadata": {},
     "output_type": "execute_result"
    }
   ],
   "source": [
    "context"
   ]
  },
  {
   "cell_type": "code",
   "execution_count": 1,
   "metadata": {},
   "outputs": [],
   "source": [
    "contex = 'コンテキスト：\\n2023年度の日産自動車従業員の平均年収（単位：万円）: 800\\n日産自動車の企業としての存在意義と目的を示す声明: 人々の生活を豊かにする\\n2023年度における世界全体での自動車生産台数: 3500000\\n日産自動車が設立された年: 1933\\n日産自動車の本社が所在する場所: 神奈川県横浜市'"
   ]
  },
  {
   "cell_type": "code",
   "execution_count": null,
   "metadata": {},
   "outputs": [],
   "source": []
  }
 ],
 "metadata": {
  "kernelspec": {
   "display_name": ".venv",
   "language": "python",
   "name": "python3"
  },
  "language_info": {
   "codemirror_mode": {
    "name": "ipython",
    "version": 3
   },
   "file_extension": ".py",
   "mimetype": "text/x-python",
   "name": "python",
   "nbconvert_exporter": "python",
   "pygments_lexer": "ipython3",
   "version": "3.11.3"
  }
 },
 "nbformat": 4,
 "nbformat_minor": 2
}
