{
 "cells": [
  {
   "cell_type": "markdown",
   "metadata": {},
   "source": [
    "### 環境設定"
   ]
  },
  {
   "cell_type": "code",
   "execution_count": 14,
   "metadata": {},
   "outputs": [
    {
     "name": "stdout",
     "output_type": "stream",
     "text": [
      "The autoreload extension is already loaded. To reload it, use:\n",
      "  %reload_ext autoreload\n"
     ]
    }
   ],
   "source": [
    "import os\n",
    "from dotenv import load_dotenv\n",
    "import settings\n",
    "from glob import glob\n",
    "from pdf_reader import pdf_reader_run\n",
    "\n",
    "\n",
    "\n",
    "%load_ext autoreload\n",
    "%autoreload 2\n",
    "\n",
    "load_dotenv()\n",
    "\n",
    "# Access the environment variables\n",
    "langchain_tracing_v2 = os.getenv('LANGCHAIN_TRACING_V2')\n",
    "langchain_endpoint = os.getenv('LANGCHAIN_ENDPOINT')\n",
    "langchain_api_key = os.getenv('LANGCHAIN_API_KEY')\n",
    "\n",
    "## LLM\n",
    "openai_api_key = os.getenv('OPENAI_API_KEY')\n",
    "PROJECT_NAME = settings.LANGCHAIN_PROJECT"
   ]
  },
  {
   "cell_type": "markdown",
   "metadata": {},
   "source": [
    "### PDFの読み込みと処理"
   ]
  },
  {
   "cell_type": "code",
   "execution_count": 9,
   "metadata": {},
   "outputs": [
    {
     "name": "stdout",
     "output_type": "stream",
     "text": [
      "成功 (PDFPlumber): ./documents\\1.pdf\n",
      "成功 (PDFPlumber): ./documents\\10.pdf\n",
      "成功 (PDFPlumber): ./documents\\11.pdf\n",
      "成功 (PDFPlumber): ./documents\\12.pdf\n",
      "成功 (PDFPlumber): ./documents\\13.pdf\n"
     ]
    },
    {
     "name": "stderr",
     "output_type": "stream",
     "text": [
      "Data-loss while decompressing corrupted data\n"
     ]
    },
    {
     "name": "stdout",
     "output_type": "stream",
     "text": [
      "成功 (PDFPlumber): ./documents\\14.pdf\n",
      "PDFPlumberが失敗: ./documents\\15.pdf - エラー: Invalid dictionary construct: [/'op', True, /'Type', /'ExtGState', /'AIS', /b'fal', /b'se', /'BM', /'Normal', /'CA', 1, /'OP', True, /'OPM', 1, /'SA', True, /'SMask', /'None', /'ca', 1]\n",
      "成功 (UnstructuredPDF-fast): ./documents\\15.pdf\n",
      "成功 (PDFPlumber): ./documents\\16.pdf\n",
      "PDFPlumberが失敗: ./documents\\17.pdf - エラー: Invalid dictionary construct: [/'CS', /'DeviceGray', /'I', /b'fal', /b'se', /'K', False, /'S', /'Transparency', /'Type', /'Group']\n",
      "成功 (UnstructuredPDF-fast): ./documents\\17.pdf\n",
      "成功 (PDFPlumber): ./documents\\18.pdf\n"
     ]
    },
    {
     "name": "stderr",
     "output_type": "stream",
     "text": [
      "Data-loss while decompressing corrupted data\n"
     ]
    },
    {
     "name": "stdout",
     "output_type": "stream",
     "text": [
      "成功 (PDFPlumber): ./documents\\19.pdf\n",
      "成功 (PDFPlumber): ./documents\\2.pdf\n",
      "成功 (PDFPlumber): ./documents\\3.pdf\n",
      "成功 (PDFPlumber): ./documents\\4.pdf\n",
      "成功 (PDFPlumber): ./documents\\5.pdf\n",
      "成功 (PDFPlumber): ./documents\\6.pdf\n",
      "成功 (PDFPlumber): ./documents\\7.pdf\n",
      "成功 (PDFPlumber): ./documents\\8.pdf\n",
      "PDFPlumberが失敗: ./documents\\9.pdf - エラー: Invalid dictionary construct: [/'CS', <PDFObjRef:5006>, /'I', /b'tru', /b'e', /'K', False, /'S', /'Transparency', /'Type', /'Group']\n",
      "成功 (UnstructuredPDF-fast): ./documents\\9.pdf\n",
      "\n",
      "=== 処理結果サマリー ===\n",
      "総ファイル数: 19\n",
      "成功したファイル数: 19\n",
      "失敗したファイル数: 0\n"
     ]
    }
   ],
   "source": [
    "file_paths = glob(settings.pdf_file_path+\"/*\")\n",
    "docs_list = pdf_reader_run(file_paths)"
   ]
  },
  {
   "cell_type": "markdown",
   "metadata": {},
   "source": [
    "### text split"
   ]
  },
  {
   "cell_type": "code",
   "execution_count": 10,
   "metadata": {},
   "outputs": [],
   "source": [
    "from langchain.text_splitter import RecursiveCharacterTextSplitter\n",
    "from langchain_openai import OpenAIEmbeddings\n",
    "from langchain_community.vectorstores import FAISS\n",
    "\n",
    "text_splitter = RecursiveCharacterTextSplitter.from_tiktoken_encoder(\n",
    "    chunk_size=settings.CHUNK_SIZE,\n",
    "    chunk_overlap=settings.CHUNK_OVERLAP\n",
    ")\n",
    "splits = text_splitter.split_documents(docs_list)"
   ]
  },
  {
   "cell_type": "code",
   "execution_count": 17,
   "metadata": {},
   "outputs": [],
   "source": [
    "from langchain.embeddings import HuggingFaceBgeEmbeddings\n",
    "\n",
    "embeddings = HuggingFaceBgeEmbeddings(\n",
    "    model_name=\"BAAI/bge-large-zh-v1.5\",  # 中国語/日本語に強い\n",
    "    encode_kwargs={'normalize_embeddings': True}\n",
    ")"
   ]
  },
  {
   "cell_type": "code",
   "execution_count": null,
   "metadata": {},
   "outputs": [],
   "source": [
    "faiss_vectorstore = FAISS.from_documents(\n",
    "                        documents=splits,\n",
    "                        embedding=embeddings\n",
    "                    )"
   ]
  },
  {
   "cell_type": "code",
   "execution_count": null,
   "metadata": {},
   "outputs": [],
   "source": [
    "bge_retriever = faiss_vectorstore.as_retriever()"
   ]
  },
  {
   "cell_type": "code",
   "execution_count": null,
   "metadata": {},
   "outputs": [],
   "source": [
    "# 保存\n",
    "faiss_vectorstore.save_local(\".vectorstore/faiss_index\")"
   ]
  }
 ],
 "metadata": {
  "kernelspec": {
   "display_name": ".venv",
   "language": "python",
   "name": "python3"
  },
  "language_info": {
   "codemirror_mode": {
    "name": "ipython",
    "version": 3
   },
   "file_extension": ".py",
   "mimetype": "text/x-python",
   "name": "python",
   "nbconvert_exporter": "python",
   "pygments_lexer": "ipython3",
   "version": "3.12.1"
  }
 },
 "nbformat": 4,
 "nbformat_minor": 2
}
